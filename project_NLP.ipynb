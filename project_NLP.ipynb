{
  "cells": [
    {
      "cell_type": "code",
      "execution_count": null,
      "metadata": {
        "id": "95EjFGKPad-7"
      },
      "outputs": [],
      "source": [
        "import os\n",
        "import re\n",
        "import pandas as pd\n",
        "import numpy as np"
      ]
    },
    {
      "cell_type": "markdown",
      "metadata": {
        "id": "ELUpPvGo8IYp"
      },
      "source": [
        "***Reading train and validation datasets***"
      ]
    },
    {
      "cell_type": "code",
      "execution_count": null,
      "metadata": {
        "id": "z-Bebc80aiA4"
      },
      "outputs": [],
      "source": [
        "df = pd.read_csv('/content/drive/MyDrive/train.csv')"
      ]
    },
    {
      "cell_type": "code",
      "source": [
        "val_data = pd.read_csv('/content/drive/MyDrive/val.csv')"
      ],
      "metadata": {
        "id": "y8nWF0bS6r4E"
      },
      "execution_count": null,
      "outputs": []
    },
    {
      "cell_type": "code",
      "execution_count": null,
      "metadata": {
        "colab": {
          "base_uri": "https://localhost:8080/"
        },
        "id": "iDRn-oFL7-5W",
        "outputId": "27f68613-27fa-40c5-ebc8-cd1df3b516a1"
      },
      "outputs": [
        {
          "output_type": "execute_result",
          "data": {
            "text/plain": [
              "0    746221\n",
              "1    238266\n",
              "Name: is_bad, dtype: int64"
            ]
          },
          "metadata": {},
          "execution_count": 12
        }
      ],
      "source": [
        "df['is_bad'].value_counts()"
      ]
    },
    {
      "cell_type": "code",
      "execution_count": null,
      "metadata": {
        "id": "PBAEEwiRNnQF",
        "colab": {
          "base_uri": "https://localhost:8080/",
          "height": 423
        },
        "outputId": "70b14239-2e3f-448c-8c6a-fbc31af615e8"
      },
      "outputs": [
        {
          "output_type": "execute_result",
          "data": {
            "text/plain": [
              "                                              description  \\\n",
              "0       Продаем диван-кровать. Удобный механизм - евро...   \n",
              "1       Кожух рулевой колонки DAF XF 94 (60066004)/\\n ...   \n",
              "2       ! Буст аккаунтов с ммр выше 1000ммр не беру ! ...   \n",
              "3       Продам телевизор . Диагональ 450.наличие входа...   \n",
              "4       Открытки-конверты ручной работы/\\nВыполнены в ...   \n",
              "...                                                   ...   \n",
              "984482  +79780979761/\\nДенис/\\nширину обода и вылет на...   \n",
              "984483                         Зарядка и под в комплекте.   \n",
              "984484  Белый стул Ikea /\\nСостояние требует ремонта: ...   \n",
              "984485  Бронирование с октября по январь 1010 г./\\n   ...   \n",
              "984486  Основное и самое любимое направление моей рабо...   \n",
              "\n",
              "                   category  is_bad  \n",
              "0           Для дома и дачи       0  \n",
              "1                 Транспорт       0  \n",
              "2                    Услуги       1  \n",
              "3       Бытовая электроника       1  \n",
              "4             Хобби и отдых       0  \n",
              "...                     ...     ...  \n",
              "984482            Транспорт       1  \n",
              "984483        Хобби и отдых       0  \n",
              "984484      Для дома и дачи       0  \n",
              "984485         Недвижимость       0  \n",
              "984486               Услуги       1  \n",
              "\n",
              "[984487 rows x 3 columns]"
            ],
            "text/html": [
              "\n",
              "\n",
              "  <div id=\"df-3d4e48a8-2d4b-4acc-b70a-7f581467f6b3\">\n",
              "    <div class=\"colab-df-container\">\n",
              "      <div>\n",
              "<style scoped>\n",
              "    .dataframe tbody tr th:only-of-type {\n",
              "        vertical-align: middle;\n",
              "    }\n",
              "\n",
              "    .dataframe tbody tr th {\n",
              "        vertical-align: top;\n",
              "    }\n",
              "\n",
              "    .dataframe thead th {\n",
              "        text-align: right;\n",
              "    }\n",
              "</style>\n",
              "<table border=\"1\" class=\"dataframe\">\n",
              "  <thead>\n",
              "    <tr style=\"text-align: right;\">\n",
              "      <th></th>\n",
              "      <th>description</th>\n",
              "      <th>category</th>\n",
              "      <th>is_bad</th>\n",
              "    </tr>\n",
              "  </thead>\n",
              "  <tbody>\n",
              "    <tr>\n",
              "      <th>0</th>\n",
              "      <td>Продаем диван-кровать. Удобный механизм - евро...</td>\n",
              "      <td>Для дома и дачи</td>\n",
              "      <td>0</td>\n",
              "    </tr>\n",
              "    <tr>\n",
              "      <th>1</th>\n",
              "      <td>Кожух рулевой колонки DAF XF 94 (60066004)/\\n ...</td>\n",
              "      <td>Транспорт</td>\n",
              "      <td>0</td>\n",
              "    </tr>\n",
              "    <tr>\n",
              "      <th>2</th>\n",
              "      <td>! Буст аккаунтов с ммр выше 1000ммр не беру ! ...</td>\n",
              "      <td>Услуги</td>\n",
              "      <td>1</td>\n",
              "    </tr>\n",
              "    <tr>\n",
              "      <th>3</th>\n",
              "      <td>Продам телевизор . Диагональ 450.наличие входа...</td>\n",
              "      <td>Бытовая электроника</td>\n",
              "      <td>1</td>\n",
              "    </tr>\n",
              "    <tr>\n",
              "      <th>4</th>\n",
              "      <td>Открытки-конверты ручной работы/\\nВыполнены в ...</td>\n",
              "      <td>Хобби и отдых</td>\n",
              "      <td>0</td>\n",
              "    </tr>\n",
              "    <tr>\n",
              "      <th>...</th>\n",
              "      <td>...</td>\n",
              "      <td>...</td>\n",
              "      <td>...</td>\n",
              "    </tr>\n",
              "    <tr>\n",
              "      <th>984482</th>\n",
              "      <td>+79780979761/\\nДенис/\\nширину обода и вылет на...</td>\n",
              "      <td>Транспорт</td>\n",
              "      <td>1</td>\n",
              "    </tr>\n",
              "    <tr>\n",
              "      <th>984483</th>\n",
              "      <td>Зарядка и под в комплекте.</td>\n",
              "      <td>Хобби и отдых</td>\n",
              "      <td>0</td>\n",
              "    </tr>\n",
              "    <tr>\n",
              "      <th>984484</th>\n",
              "      <td>Белый стул Ikea /\\nСостояние требует ремонта: ...</td>\n",
              "      <td>Для дома и дачи</td>\n",
              "      <td>0</td>\n",
              "    </tr>\n",
              "    <tr>\n",
              "      <th>984485</th>\n",
              "      <td>Бронирование с октября по январь 1010 г./\\n   ...</td>\n",
              "      <td>Недвижимость</td>\n",
              "      <td>0</td>\n",
              "    </tr>\n",
              "    <tr>\n",
              "      <th>984486</th>\n",
              "      <td>Основное и самое любимое направление моей рабо...</td>\n",
              "      <td>Услуги</td>\n",
              "      <td>1</td>\n",
              "    </tr>\n",
              "  </tbody>\n",
              "</table>\n",
              "<p>984487 rows × 3 columns</p>\n",
              "</div>\n",
              "      <button class=\"colab-df-convert\" onclick=\"convertToInteractive('df-3d4e48a8-2d4b-4acc-b70a-7f581467f6b3')\"\n",
              "              title=\"Convert this dataframe to an interactive table.\"\n",
              "              style=\"display:none;\">\n",
              "\n",
              "  <svg xmlns=\"http://www.w3.org/2000/svg\" height=\"24px\"viewBox=\"0 0 24 24\"\n",
              "       width=\"24px\">\n",
              "    <path d=\"M0 0h24v24H0V0z\" fill=\"none\"/>\n",
              "    <path d=\"M18.56 5.44l.94 2.06.94-2.06 2.06-.94-2.06-.94-.94-2.06-.94 2.06-2.06.94zm-11 1L8.5 8.5l.94-2.06 2.06-.94-2.06-.94L8.5 2.5l-.94 2.06-2.06.94zm10 10l.94 2.06.94-2.06 2.06-.94-2.06-.94-.94-2.06-.94 2.06-2.06.94z\"/><path d=\"M17.41 7.96l-1.37-1.37c-.4-.4-.92-.59-1.43-.59-.52 0-1.04.2-1.43.59L10.3 9.45l-7.72 7.72c-.78.78-.78 2.05 0 2.83L4 21.41c.39.39.9.59 1.41.59.51 0 1.02-.2 1.41-.59l7.78-7.78 2.81-2.81c.8-.78.8-2.07 0-2.86zM5.41 20L4 18.59l7.72-7.72 1.47 1.35L5.41 20z\"/>\n",
              "  </svg>\n",
              "      </button>\n",
              "\n",
              "\n",
              "\n",
              "    <div id=\"df-0d20897c-3353-4e7b-abd2-a61cc64c0fe6\">\n",
              "      <button class=\"colab-df-quickchart\" onclick=\"quickchart('df-0d20897c-3353-4e7b-abd2-a61cc64c0fe6')\"\n",
              "              title=\"Suggest charts.\"\n",
              "              style=\"display:none;\">\n",
              "\n",
              "<svg xmlns=\"http://www.w3.org/2000/svg\" height=\"24px\"viewBox=\"0 0 24 24\"\n",
              "     width=\"24px\">\n",
              "    <g>\n",
              "        <path d=\"M19 3H5c-1.1 0-2 .9-2 2v14c0 1.1.9 2 2 2h14c1.1 0 2-.9 2-2V5c0-1.1-.9-2-2-2zM9 17H7v-7h2v7zm4 0h-2V7h2v10zm4 0h-2v-4h2v4z\"/>\n",
              "    </g>\n",
              "</svg>\n",
              "      </button>\n",
              "    </div>\n",
              "\n",
              "<style>\n",
              "  .colab-df-quickchart {\n",
              "    background-color: #E8F0FE;\n",
              "    border: none;\n",
              "    border-radius: 50%;\n",
              "    cursor: pointer;\n",
              "    display: none;\n",
              "    fill: #1967D2;\n",
              "    height: 32px;\n",
              "    padding: 0 0 0 0;\n",
              "    width: 32px;\n",
              "  }\n",
              "\n",
              "  .colab-df-quickchart:hover {\n",
              "    background-color: #E2EBFA;\n",
              "    box-shadow: 0px 1px 2px rgba(60, 64, 67, 0.3), 0px 1px 3px 1px rgba(60, 64, 67, 0.15);\n",
              "    fill: #174EA6;\n",
              "  }\n",
              "\n",
              "  [theme=dark] .colab-df-quickchart {\n",
              "    background-color: #3B4455;\n",
              "    fill: #D2E3FC;\n",
              "  }\n",
              "\n",
              "  [theme=dark] .colab-df-quickchart:hover {\n",
              "    background-color: #434B5C;\n",
              "    box-shadow: 0px 1px 3px 1px rgba(0, 0, 0, 0.15);\n",
              "    filter: drop-shadow(0px 1px 2px rgba(0, 0, 0, 0.3));\n",
              "    fill: #FFFFFF;\n",
              "  }\n",
              "</style>\n",
              "\n",
              "    <script>\n",
              "      async function quickchart(key) {\n",
              "        const containerElement = document.querySelector('#' + key);\n",
              "        const charts = await google.colab.kernel.invokeFunction(\n",
              "            'suggestCharts', [key], {});\n",
              "      }\n",
              "    </script>\n",
              "\n",
              "      <script>\n",
              "\n",
              "function displayQuickchartButton(domScope) {\n",
              "  let quickchartButtonEl =\n",
              "    domScope.querySelector('#df-0d20897c-3353-4e7b-abd2-a61cc64c0fe6 button.colab-df-quickchart');\n",
              "  quickchartButtonEl.style.display =\n",
              "    google.colab.kernel.accessAllowed ? 'block' : 'none';\n",
              "}\n",
              "\n",
              "        displayQuickchartButton(document);\n",
              "      </script>\n",
              "      <style>\n",
              "    .colab-df-container {\n",
              "      display:flex;\n",
              "      flex-wrap:wrap;\n",
              "      gap: 12px;\n",
              "    }\n",
              "\n",
              "    .colab-df-convert {\n",
              "      background-color: #E8F0FE;\n",
              "      border: none;\n",
              "      border-radius: 50%;\n",
              "      cursor: pointer;\n",
              "      display: none;\n",
              "      fill: #1967D2;\n",
              "      height: 32px;\n",
              "      padding: 0 0 0 0;\n",
              "      width: 32px;\n",
              "    }\n",
              "\n",
              "    .colab-df-convert:hover {\n",
              "      background-color: #E2EBFA;\n",
              "      box-shadow: 0px 1px 2px rgba(60, 64, 67, 0.3), 0px 1px 3px 1px rgba(60, 64, 67, 0.15);\n",
              "      fill: #174EA6;\n",
              "    }\n",
              "\n",
              "    [theme=dark] .colab-df-convert {\n",
              "      background-color: #3B4455;\n",
              "      fill: #D2E3FC;\n",
              "    }\n",
              "\n",
              "    [theme=dark] .colab-df-convert:hover {\n",
              "      background-color: #434B5C;\n",
              "      box-shadow: 0px 1px 3px 1px rgba(0, 0, 0, 0.15);\n",
              "      filter: drop-shadow(0px 1px 2px rgba(0, 0, 0, 0.3));\n",
              "      fill: #FFFFFF;\n",
              "    }\n",
              "  </style>\n",
              "\n",
              "      <script>\n",
              "        const buttonEl =\n",
              "          document.querySelector('#df-3d4e48a8-2d4b-4acc-b70a-7f581467f6b3 button.colab-df-convert');\n",
              "        buttonEl.style.display =\n",
              "          google.colab.kernel.accessAllowed ? 'block' : 'none';\n",
              "\n",
              "        async function convertToInteractive(key) {\n",
              "          const element = document.querySelector('#df-3d4e48a8-2d4b-4acc-b70a-7f581467f6b3');\n",
              "          const dataTable =\n",
              "            await google.colab.kernel.invokeFunction('convertToInteractive',\n",
              "                                                     [key], {});\n",
              "          if (!dataTable) return;\n",
              "\n",
              "          const docLinkHtml = 'Like what you see? Visit the ' +\n",
              "            '<a target=\"_blank\" href=https://colab.research.google.com/notebooks/data_table.ipynb>data table notebook</a>'\n",
              "            + ' to learn more about interactive tables.';\n",
              "          element.innerHTML = '';\n",
              "          dataTable['output_type'] = 'display_data';\n",
              "          await google.colab.output.renderOutput(dataTable, element);\n",
              "          const docLink = document.createElement('div');\n",
              "          docLink.innerHTML = docLinkHtml;\n",
              "          element.appendChild(docLink);\n",
              "        }\n",
              "      </script>\n",
              "    </div>\n",
              "  </div>\n"
            ]
          },
          "metadata": {},
          "execution_count": 14
        }
      ],
      "source": [
        "df = df[['description', 'category', 'is_bad']]\n",
        "df"
      ]
    },
    {
      "cell_type": "code",
      "source": [
        "df['number of words'] = df['description'].apply(lambda n: len(n.split()))\n"
      ],
      "metadata": {
        "id": "fh6pSEm49qfk"
      },
      "execution_count": null,
      "outputs": []
    },
    {
      "cell_type": "code",
      "source": [
        "df"
      ],
      "metadata": {
        "colab": {
          "base_uri": "https://localhost:8080/",
          "height": 519
        },
        "id": "Zjn7jbtxT8tR",
        "outputId": "5dceded3-7c82-45a8-c96b-866eae09cfdd"
      },
      "execution_count": null,
      "outputs": [
        {
          "output_type": "execute_result",
          "data": {
            "text/plain": [
              "                                              description  \\\n",
              "0       Продаем диван-кровать. Удобный механизм - евро...   \n",
              "1       Кожух рулевой колонки DAF XF 94 (60066004)/\\n ...   \n",
              "2       ! Буст аккаунтов с ммр выше 1000ммр не беру ! ...   \n",
              "3       Продам телевизор . Диагональ 450.наличие входа...   \n",
              "4       Открытки-конверты ручной работы/\\nВыполнены в ...   \n",
              "...                                                   ...   \n",
              "984482  +79780979761/\\nДенис/\\nширину обода и вылет на...   \n",
              "984483                         Зарядка и под в комплекте.   \n",
              "984484  Белый стул Ikea /\\nСостояние требует ремонта: ...   \n",
              "984485  Бронирование с октября по январь 1010 г./\\n   ...   \n",
              "984486  Основное и самое любимое направление моей рабо...   \n",
              "\n",
              "                   category  is_bad  number of words  \n",
              "0           Для дома и дачи       0               37  \n",
              "1                 Транспорт       0              117  \n",
              "2                    Услуги       1               38  \n",
              "3       Бытовая электроника       1               57  \n",
              "4             Хобби и отдых       0                7  \n",
              "...                     ...     ...              ...  \n",
              "984482            Транспорт       1                8  \n",
              "984483        Хобби и отдых       0                5  \n",
              "984484      Для дома и дачи       0               28  \n",
              "984485         Недвижимость       0              278  \n",
              "984486               Услуги       1              120  \n",
              "\n",
              "[984487 rows x 4 columns]"
            ],
            "text/html": [
              "\n",
              "\n",
              "  <div id=\"df-304b5761-ae59-4889-9e55-1bd545c41cee\">\n",
              "    <div class=\"colab-df-container\">\n",
              "      <div>\n",
              "<style scoped>\n",
              "    .dataframe tbody tr th:only-of-type {\n",
              "        vertical-align: middle;\n",
              "    }\n",
              "\n",
              "    .dataframe tbody tr th {\n",
              "        vertical-align: top;\n",
              "    }\n",
              "\n",
              "    .dataframe thead th {\n",
              "        text-align: right;\n",
              "    }\n",
              "</style>\n",
              "<table border=\"1\" class=\"dataframe\">\n",
              "  <thead>\n",
              "    <tr style=\"text-align: right;\">\n",
              "      <th></th>\n",
              "      <th>description</th>\n",
              "      <th>category</th>\n",
              "      <th>is_bad</th>\n",
              "      <th>number of words</th>\n",
              "    </tr>\n",
              "  </thead>\n",
              "  <tbody>\n",
              "    <tr>\n",
              "      <th>0</th>\n",
              "      <td>Продаем диван-кровать. Удобный механизм - евро...</td>\n",
              "      <td>Для дома и дачи</td>\n",
              "      <td>0</td>\n",
              "      <td>37</td>\n",
              "    </tr>\n",
              "    <tr>\n",
              "      <th>1</th>\n",
              "      <td>Кожух рулевой колонки DAF XF 94 (60066004)/\\n ...</td>\n",
              "      <td>Транспорт</td>\n",
              "      <td>0</td>\n",
              "      <td>117</td>\n",
              "    </tr>\n",
              "    <tr>\n",
              "      <th>2</th>\n",
              "      <td>! Буст аккаунтов с ммр выше 1000ммр не беру ! ...</td>\n",
              "      <td>Услуги</td>\n",
              "      <td>1</td>\n",
              "      <td>38</td>\n",
              "    </tr>\n",
              "    <tr>\n",
              "      <th>3</th>\n",
              "      <td>Продам телевизор . Диагональ 450.наличие входа...</td>\n",
              "      <td>Бытовая электроника</td>\n",
              "      <td>1</td>\n",
              "      <td>57</td>\n",
              "    </tr>\n",
              "    <tr>\n",
              "      <th>4</th>\n",
              "      <td>Открытки-конверты ручной работы/\\nВыполнены в ...</td>\n",
              "      <td>Хобби и отдых</td>\n",
              "      <td>0</td>\n",
              "      <td>7</td>\n",
              "    </tr>\n",
              "    <tr>\n",
              "      <th>...</th>\n",
              "      <td>...</td>\n",
              "      <td>...</td>\n",
              "      <td>...</td>\n",
              "      <td>...</td>\n",
              "    </tr>\n",
              "    <tr>\n",
              "      <th>984482</th>\n",
              "      <td>+79780979761/\\nДенис/\\nширину обода и вылет на...</td>\n",
              "      <td>Транспорт</td>\n",
              "      <td>1</td>\n",
              "      <td>8</td>\n",
              "    </tr>\n",
              "    <tr>\n",
              "      <th>984483</th>\n",
              "      <td>Зарядка и под в комплекте.</td>\n",
              "      <td>Хобби и отдых</td>\n",
              "      <td>0</td>\n",
              "      <td>5</td>\n",
              "    </tr>\n",
              "    <tr>\n",
              "      <th>984484</th>\n",
              "      <td>Белый стул Ikea /\\nСостояние требует ремонта: ...</td>\n",
              "      <td>Для дома и дачи</td>\n",
              "      <td>0</td>\n",
              "      <td>28</td>\n",
              "    </tr>\n",
              "    <tr>\n",
              "      <th>984485</th>\n",
              "      <td>Бронирование с октября по январь 1010 г./\\n   ...</td>\n",
              "      <td>Недвижимость</td>\n",
              "      <td>0</td>\n",
              "      <td>278</td>\n",
              "    </tr>\n",
              "    <tr>\n",
              "      <th>984486</th>\n",
              "      <td>Основное и самое любимое направление моей рабо...</td>\n",
              "      <td>Услуги</td>\n",
              "      <td>1</td>\n",
              "      <td>120</td>\n",
              "    </tr>\n",
              "  </tbody>\n",
              "</table>\n",
              "<p>984487 rows × 4 columns</p>\n",
              "</div>\n",
              "      <button class=\"colab-df-convert\" onclick=\"convertToInteractive('df-304b5761-ae59-4889-9e55-1bd545c41cee')\"\n",
              "              title=\"Convert this dataframe to an interactive table.\"\n",
              "              style=\"display:none;\">\n",
              "\n",
              "  <svg xmlns=\"http://www.w3.org/2000/svg\" height=\"24px\"viewBox=\"0 0 24 24\"\n",
              "       width=\"24px\">\n",
              "    <path d=\"M0 0h24v24H0V0z\" fill=\"none\"/>\n",
              "    <path d=\"M18.56 5.44l.94 2.06.94-2.06 2.06-.94-2.06-.94-.94-2.06-.94 2.06-2.06.94zm-11 1L8.5 8.5l.94-2.06 2.06-.94-2.06-.94L8.5 2.5l-.94 2.06-2.06.94zm10 10l.94 2.06.94-2.06 2.06-.94-2.06-.94-.94-2.06-.94 2.06-2.06.94z\"/><path d=\"M17.41 7.96l-1.37-1.37c-.4-.4-.92-.59-1.43-.59-.52 0-1.04.2-1.43.59L10.3 9.45l-7.72 7.72c-.78.78-.78 2.05 0 2.83L4 21.41c.39.39.9.59 1.41.59.51 0 1.02-.2 1.41-.59l7.78-7.78 2.81-2.81c.8-.78.8-2.07 0-2.86zM5.41 20L4 18.59l7.72-7.72 1.47 1.35L5.41 20z\"/>\n",
              "  </svg>\n",
              "      </button>\n",
              "\n",
              "\n",
              "\n",
              "    <div id=\"df-4a8f0890-2069-4285-99c6-096e0e862edd\">\n",
              "      <button class=\"colab-df-quickchart\" onclick=\"quickchart('df-4a8f0890-2069-4285-99c6-096e0e862edd')\"\n",
              "              title=\"Suggest charts.\"\n",
              "              style=\"display:none;\">\n",
              "\n",
              "<svg xmlns=\"http://www.w3.org/2000/svg\" height=\"24px\"viewBox=\"0 0 24 24\"\n",
              "     width=\"24px\">\n",
              "    <g>\n",
              "        <path d=\"M19 3H5c-1.1 0-2 .9-2 2v14c0 1.1.9 2 2 2h14c1.1 0 2-.9 2-2V5c0-1.1-.9-2-2-2zM9 17H7v-7h2v7zm4 0h-2V7h2v10zm4 0h-2v-4h2v4z\"/>\n",
              "    </g>\n",
              "</svg>\n",
              "      </button>\n",
              "    </div>\n",
              "\n",
              "<style>\n",
              "  .colab-df-quickchart {\n",
              "    background-color: #E8F0FE;\n",
              "    border: none;\n",
              "    border-radius: 50%;\n",
              "    cursor: pointer;\n",
              "    display: none;\n",
              "    fill: #1967D2;\n",
              "    height: 32px;\n",
              "    padding: 0 0 0 0;\n",
              "    width: 32px;\n",
              "  }\n",
              "\n",
              "  .colab-df-quickchart:hover {\n",
              "    background-color: #E2EBFA;\n",
              "    box-shadow: 0px 1px 2px rgba(60, 64, 67, 0.3), 0px 1px 3px 1px rgba(60, 64, 67, 0.15);\n",
              "    fill: #174EA6;\n",
              "  }\n",
              "\n",
              "  [theme=dark] .colab-df-quickchart {\n",
              "    background-color: #3B4455;\n",
              "    fill: #D2E3FC;\n",
              "  }\n",
              "\n",
              "  [theme=dark] .colab-df-quickchart:hover {\n",
              "    background-color: #434B5C;\n",
              "    box-shadow: 0px 1px 3px 1px rgba(0, 0, 0, 0.15);\n",
              "    filter: drop-shadow(0px 1px 2px rgba(0, 0, 0, 0.3));\n",
              "    fill: #FFFFFF;\n",
              "  }\n",
              "</style>\n",
              "\n",
              "    <script>\n",
              "      async function quickchart(key) {\n",
              "        const containerElement = document.querySelector('#' + key);\n",
              "        const charts = await google.colab.kernel.invokeFunction(\n",
              "            'suggestCharts', [key], {});\n",
              "      }\n",
              "    </script>\n",
              "\n",
              "      <script>\n",
              "\n",
              "function displayQuickchartButton(domScope) {\n",
              "  let quickchartButtonEl =\n",
              "    domScope.querySelector('#df-4a8f0890-2069-4285-99c6-096e0e862edd button.colab-df-quickchart');\n",
              "  quickchartButtonEl.style.display =\n",
              "    google.colab.kernel.accessAllowed ? 'block' : 'none';\n",
              "}\n",
              "\n",
              "        displayQuickchartButton(document);\n",
              "      </script>\n",
              "      <style>\n",
              "    .colab-df-container {\n",
              "      display:flex;\n",
              "      flex-wrap:wrap;\n",
              "      gap: 12px;\n",
              "    }\n",
              "\n",
              "    .colab-df-convert {\n",
              "      background-color: #E8F0FE;\n",
              "      border: none;\n",
              "      border-radius: 50%;\n",
              "      cursor: pointer;\n",
              "      display: none;\n",
              "      fill: #1967D2;\n",
              "      height: 32px;\n",
              "      padding: 0 0 0 0;\n",
              "      width: 32px;\n",
              "    }\n",
              "\n",
              "    .colab-df-convert:hover {\n",
              "      background-color: #E2EBFA;\n",
              "      box-shadow: 0px 1px 2px rgba(60, 64, 67, 0.3), 0px 1px 3px 1px rgba(60, 64, 67, 0.15);\n",
              "      fill: #174EA6;\n",
              "    }\n",
              "\n",
              "    [theme=dark] .colab-df-convert {\n",
              "      background-color: #3B4455;\n",
              "      fill: #D2E3FC;\n",
              "    }\n",
              "\n",
              "    [theme=dark] .colab-df-convert:hover {\n",
              "      background-color: #434B5C;\n",
              "      box-shadow: 0px 1px 3px 1px rgba(0, 0, 0, 0.15);\n",
              "      filter: drop-shadow(0px 1px 2px rgba(0, 0, 0, 0.3));\n",
              "      fill: #FFFFFF;\n",
              "    }\n",
              "  </style>\n",
              "\n",
              "      <script>\n",
              "        const buttonEl =\n",
              "          document.querySelector('#df-304b5761-ae59-4889-9e55-1bd545c41cee button.colab-df-convert');\n",
              "        buttonEl.style.display =\n",
              "          google.colab.kernel.accessAllowed ? 'block' : 'none';\n",
              "\n",
              "        async function convertToInteractive(key) {\n",
              "          const element = document.querySelector('#df-304b5761-ae59-4889-9e55-1bd545c41cee');\n",
              "          const dataTable =\n",
              "            await google.colab.kernel.invokeFunction('convertToInteractive',\n",
              "                                                     [key], {});\n",
              "          if (!dataTable) return;\n",
              "\n",
              "          const docLinkHtml = 'Like what you see? Visit the ' +\n",
              "            '<a target=\"_blank\" href=https://colab.research.google.com/notebooks/data_table.ipynb>data table notebook</a>'\n",
              "            + ' to learn more about interactive tables.';\n",
              "          element.innerHTML = '';\n",
              "          dataTable['output_type'] = 'display_data';\n",
              "          await google.colab.output.renderOutput(dataTable, element);\n",
              "          const docLink = document.createElement('div');\n",
              "          docLink.innerHTML = docLinkHtml;\n",
              "          element.appendChild(docLink);\n",
              "        }\n",
              "      </script>\n",
              "    </div>\n",
              "  </div>\n"
            ]
          },
          "metadata": {},
          "execution_count": 16
        }
      ]
    },
    {
      "cell_type": "code",
      "source": [
        "df = df.drop(df[df['number of words'] >= 725].index)\n",
        "df = df.reset_index(drop=True)"
      ],
      "metadata": {
        "id": "-i-WaYNDXUMo"
      },
      "execution_count": null,
      "outputs": []
    },
    {
      "cell_type": "code",
      "source": [
        "df = df.reset_index(drop=True)"
      ],
      "metadata": {
        "id": "Tg0dk25jYJ94"
      },
      "execution_count": null,
      "outputs": []
    },
    {
      "cell_type": "code",
      "source": [
        "df['is_bad'].value_counts()"
      ],
      "metadata": {
        "colab": {
          "base_uri": "https://localhost:8080/"
        },
        "id": "DVIywwSyQPkZ",
        "outputId": "c8524424-169f-4873-bed0-001aa19eeccf"
      },
      "execution_count": null,
      "outputs": [
        {
          "output_type": "execute_result",
          "data": {
            "text/plain": [
              "0    746156\n",
              "1    238264\n",
              "Name: is_bad, dtype: int64"
            ]
          },
          "metadata": {},
          "execution_count": 19
        }
      ]
    },
    {
      "cell_type": "markdown",
      "source": [
        "***Findind max length in category column***"
      ],
      "metadata": {
        "id": "EGIkypyiEd6W"
      }
    },
    {
      "cell_type": "code",
      "source": [
        "df['number of words'].max()"
      ],
      "metadata": {
        "colab": {
          "base_uri": "https://localhost:8080/"
        },
        "id": "WYdnzJTwV7gf",
        "outputId": "f296a835-fd6c-486d-af72-4e2eb465545e"
      },
      "execution_count": null,
      "outputs": [
        {
          "output_type": "execute_result",
          "data": {
            "text/plain": [
              "724"
            ]
          },
          "metadata": {},
          "execution_count": 20
        }
      ]
    },
    {
      "cell_type": "code",
      "source": [
        "df['number of words'].idxmax()"
      ],
      "metadata": {
        "colab": {
          "base_uri": "https://localhost:8080/"
        },
        "id": "dyqFffcGV_TC",
        "outputId": "792cb92d-5444-48e6-b146-0e5a68970ecc"
      },
      "execution_count": null,
      "outputs": [
        {
          "output_type": "execute_result",
          "data": {
            "text/plain": [
              "381061"
            ]
          },
          "metadata": {},
          "execution_count": 21
        }
      ]
    },
    {
      "cell_type": "code",
      "source": [
        "val_data = val_data[['description', 'category', 'is_bad']]\n",
        "val_data['number of words'] = val_data['description'].apply(lambda n: len(n.split()))\n"
      ],
      "metadata": {
        "id": "LhdJ3-Vl6wqy"
      },
      "execution_count": null,
      "outputs": []
    },
    {
      "cell_type": "code",
      "source": [
        "val_data['number of words'].max()"
      ],
      "metadata": {
        "colab": {
          "base_uri": "https://localhost:8080/"
        },
        "id": "JklVCHCn73oM",
        "outputId": "0b5567f4-a72f-4ee9-a3f1-7e46762768d3"
      },
      "execution_count": null,
      "outputs": [
        {
          "output_type": "execute_result",
          "data": {
            "text/plain": [
              "721"
            ]
          },
          "metadata": {},
          "execution_count": 13
        }
      ]
    },
    {
      "cell_type": "code",
      "execution_count": null,
      "metadata": {
        "colab": {
          "base_uri": "https://localhost:8080/"
        },
        "id": "FKE6OSoHU8bo",
        "outputId": "79144051-269b-4d9d-fd74-860cf2180446"
      },
      "outputs": [
        {
          "output_type": "execute_result",
          "data": {
            "text/plain": [
              "array(['Для дома и дачи', 'Транспорт', 'Услуги', 'Бытовая электроника',\n",
              "       'Хобби и отдых', 'Личные вещи', 'Недвижимость', 'Животные',\n",
              "       'Для бизнеса', 'Работа'], dtype=object)"
            ]
          },
          "metadata": {},
          "execution_count": 23
        }
      ],
      "source": [
        "df['category'].unique()"
      ]
    },
    {
      "cell_type": "code",
      "execution_count": null,
      "metadata": {
        "colab": {
          "base_uri": "https://localhost:8080/"
        },
        "id": "J804EaDo5dyN",
        "outputId": "c1da87b9-dfc8-4097-e0d4-de7258a5c4bf"
      },
      "outputs": [
        {
          "output_type": "stream",
          "name": "stdout",
          "text": [
            "Транспорт  0    154402\n",
            "1     54813\n",
            "Name: is_bad, dtype: int64\n",
            "Для дома и дачи  0    102017\n",
            "1     30086\n",
            "Name: is_bad, dtype: int64\n",
            "Услуги  1    28430\n",
            "0    28251\n",
            "Name: is_bad, dtype: int64\n",
            "Бытовая электроника  0    131093\n",
            "1     21010\n",
            "Name: is_bad, dtype: int64\n",
            "Хобби и отдых  0    53813\n",
            "1    10474\n",
            "Name: is_bad, dtype: int64\n",
            "Личные вещи  0    172146\n",
            "1     27509\n",
            "Name: is_bad, dtype: int64\n",
            "Недвижимость  0    64101\n",
            "1    36694\n",
            "Name: is_bad, dtype: int64\n",
            "Животные  1    17159\n",
            "0    14262\n",
            "Name: is_bad, dtype: int64\n",
            "Для бизнеса  0    10203\n",
            "1     1749\n",
            "Name: is_bad, dtype: int64\n",
            "Работа  0    15868\n",
            "1    10340\n",
            "Name: is_bad, dtype: int64\n"
          ]
        }
      ],
      "source": [
        "print('Транспорт ',df.query(\"category == 'Транспорт'\")['is_bad'].value_counts())\n",
        "print('Для дома и дачи ',df.query(\"category == 'Для дома и дачи'\")['is_bad'].value_counts())\n",
        "print('Услуги ',df.query(\"category == 'Услуги'\")['is_bad'].value_counts())\n",
        "print('Бытовая электроника ',df.query(\"category == 'Бытовая электроника'\")['is_bad'].value_counts())\n",
        "print('Хобби и отдых ',df.query(\"category == 'Хобби и отдых'\")['is_bad'].value_counts())\n",
        "print('Личные вещи ',df.query(\"category == 'Личные вещи'\")['is_bad'].value_counts())\n",
        "print('Недвижимость ',df.query(\"category == 'Недвижимость'\")['is_bad'].value_counts())\n",
        "print('Животные ',df.query(\"category == 'Животные'\")['is_bad'].value_counts())\n",
        "print('Для бизнеса ',df.query(\"category == 'Для бизнеса'\")['is_bad'].value_counts())\n",
        "print('Работа ',df.query(\"category == 'Работа'\")['is_bad'].value_counts())"
      ]
    },
    {
      "cell_type": "markdown",
      "source": [
        "***Manually balancing the data***"
      ],
      "metadata": {
        "id": "duOHiYn9EsFy"
      }
    },
    {
      "cell_type": "code",
      "execution_count": null,
      "metadata": {
        "id": "aTV41kwXUywH"
      },
      "outputs": [],
      "source": [
        "mask_transport_0 = df.loc[(df[\"category\"] == \"Транспорт\") & (df[\"is_bad\"] == 0)]\n",
        "mask_transport_0 = mask_transport_0.head(54813)\n",
        "mask_transport_1 = df.loc[(df[\"category\"] == \"Транспорт\") & (df[\"is_bad\"] == 1)]\n",
        "\n",
        "mask_services_0 = df.loc[(df[\"category\"] == \"Услуги\") & (df[\"is_bad\"] == 0)]\n",
        "mask_services_1 = df.loc[(df[\"category\"] == \"Услуги\") & (df[\"is_bad\"] == 1)]\n",
        "\n",
        "mask_for_home_and_garden_0 = df.loc[(df[\"category\"] == \"Для дома и дачи\") & (df[\"is_bad\"] == 0)]\n",
        "mask_for_home_and_garden_0 = mask_for_home_and_garden_0.head(30086)\n",
        "mask_for_home_and_garden_1 = df.loc[(df[\"category\"] == \"Для дома и дачи\") & (df[\"is_bad\"] == 1)]\n",
        "\n",
        "mask_appliances_0 = df.loc[(df[\"category\"] == \"Бытовая электроника\") & (df[\"is_bad\"] == 0)]\n",
        "mask_appliances_0 = mask_appliances_0.head(21010)\n",
        "mask_appliances_1 = df.loc[(df[\"category\"] == \"Бытовая электроника\") & (df[\"is_bad\"] == 1)]\n",
        "\n",
        "mask_hobby_and_rest_0 = df.loc[(df[\"category\"] == \"Хобби и отдых\") & (df[\"is_bad\"] == 0)]\n",
        "mask_hobby_and_rest_0 = mask_hobby_and_rest_0.head(10474)\n",
        "mask_hobby_and_rest_1 = df.loc[(df[\"category\"] == \"Хобби и отдых\") & (df[\"is_bad\"] == 1)]\n",
        "\n",
        "mask_personals_0 = df.loc[(df[\"category\"] == \"Личные вещи\") & (df[\"is_bad\"] == 0)]\n",
        "mask_personals_0 = mask_personals_0.head(27509)\n",
        "mask_personals_1 = df.loc[(df[\"category\"] == \"Личные вещи\") & (df[\"is_bad\"] == 1)]\n",
        "\n",
        "mask_real_estate_0 = df.loc[(df[\"category\"] == \"Недвижимость\") & (df[\"is_bad\"] == 0)]\n",
        "mask_real_estate_0 = mask_real_estate_0.head(36694)\n",
        "mask_real_estate_1 = df.loc[(df[\"category\"] == \"Недвижимость\") & (df[\"is_bad\"] == 1)]\n",
        "\n",
        "mask_animals_0 = df.loc[(df[\"category\"] == \"Животные\") & (df[\"is_bad\"] == 0)]\n",
        "mask_animals_1 = df.loc[(df[\"category\"] == \"Животные\") & (df[\"is_bad\"] == 1)]\n",
        "\n",
        "mask_for_business_0 = df.loc[(df[\"category\"] == \"Для бизнеса\") & (df[\"is_bad\"] == 0)]\n",
        "mask_for_business_0 = mask_for_business_0.head(1749)\n",
        "mask_for_business_1 = df.loc[(df[\"category\"] == \"Для бизнеса\") & (df[\"is_bad\"] == 1)]\n",
        "\n",
        "mask_work_0 = df.loc[(df[\"category\"] == \"Работа\") & (df[\"is_bad\"] == 0)]\n",
        "mask_work_0 = mask_work_0.head(10340)\n",
        "mask_work_1 = df.loc[(df[\"category\"] == \"Работа\") & (df[\"is_bad\"] == 1)]"
      ]
    },
    {
      "cell_type": "code",
      "execution_count": null,
      "metadata": {
        "id": "nsdVNvyV4B3B"
      },
      "outputs": [],
      "source": [
        "df = pd.concat([mask_transport_0,mask_transport_1,\n",
        "                mask_services_0, mask_services_1,\n",
        "                mask_for_home_and_garden_0,mask_for_home_and_garden_1,\n",
        "                mask_appliances_0,mask_appliances_1,\n",
        "                mask_hobby_and_rest_0, mask_hobby_and_rest_1,\n",
        "                mask_personals_0, mask_personals_1,\n",
        "                mask_real_estate_0, mask_real_estate_1,\n",
        "                mask_animals_0, mask_animals_1,\n",
        "                mask_for_business_0, mask_for_business_1,\n",
        "                mask_work_0, mask_work_1])"
      ]
    },
    {
      "cell_type": "code",
      "execution_count": null,
      "metadata": {
        "id": "xSD9S5PR6qdG"
      },
      "outputs": [],
      "source": [
        "df = df.sample(frac = 1)"
      ]
    },
    {
      "cell_type": "code",
      "execution_count": null,
      "metadata": {
        "id": "C6SmXkivyGO3",
        "colab": {
          "base_uri": "https://localhost:8080/",
          "height": 554
        },
        "outputId": "405a293b-f9d2-469c-d29d-1cf3c0c26305"
      },
      "outputs": [
        {
          "output_type": "execute_result",
          "data": {
            "text/plain": [
              "                                              description  \\\n",
              "0       Срочно сдаем./\\n4-комнатная квартира в г. Коро...   \n",
              "1       Блок питания Power RX6500 6100W предназначен д...   \n",
              "2       Жесткий диск 41Гб 35К LFF SAS HOT PLUG, 4.5-in...   \n",
              "3       Продаю МФУ принтер HP Laser Jet 2156 MFP б/у в...   \n",
              "4       Продам новую электрическую плиту Лысьва, с пли...   \n",
              "...                                                   ...   \n",
              "473447  Новые веганские кроссовки в ретро стиле. Встав...   \n",
              "473448   Дверь заднее правое./\\n /\\nДверь заднее право...   \n",
              "473449  ЗА НЕНАДОБНОСТЬЮ, Продам ОПТОМ полиэтиленовые ...   \n",
              "473450   ЭМ-65 Вента - орган-бас-синтезатор, имеет дин...   \n",
              "473451  Меня зовут Алена!/\\nЯ окончила курсы SMM в Gee...   \n",
              "\n",
              "                   category  is_bad  number of words  \n",
              "0              Недвижимость       1               67  \n",
              "1       Бытовая электроника       0              388  \n",
              "2       Бытовая электроника       0               99  \n",
              "3       Бытовая электроника       1               27  \n",
              "4           Для дома и дачи       1               16  \n",
              "...                     ...     ...              ...  \n",
              "473447          Личные вещи       0               35  \n",
              "473448            Транспорт       0              163  \n",
              "473449        Хобби и отдых       1              455  \n",
              "473450        Хобби и отдых       0              135  \n",
              "473451               Работа       0              172  \n",
              "\n",
              "[473452 rows x 4 columns]"
            ],
            "text/html": [
              "\n",
              "\n",
              "  <div id=\"df-dfb554fd-df53-4ea8-86f0-14cbe52a4bab\">\n",
              "    <div class=\"colab-df-container\">\n",
              "      <div>\n",
              "<style scoped>\n",
              "    .dataframe tbody tr th:only-of-type {\n",
              "        vertical-align: middle;\n",
              "    }\n",
              "\n",
              "    .dataframe tbody tr th {\n",
              "        vertical-align: top;\n",
              "    }\n",
              "\n",
              "    .dataframe thead th {\n",
              "        text-align: right;\n",
              "    }\n",
              "</style>\n",
              "<table border=\"1\" class=\"dataframe\">\n",
              "  <thead>\n",
              "    <tr style=\"text-align: right;\">\n",
              "      <th></th>\n",
              "      <th>description</th>\n",
              "      <th>category</th>\n",
              "      <th>is_bad</th>\n",
              "      <th>number of words</th>\n",
              "    </tr>\n",
              "  </thead>\n",
              "  <tbody>\n",
              "    <tr>\n",
              "      <th>0</th>\n",
              "      <td>Срочно сдаем./\\n4-комнатная квартира в г. Коро...</td>\n",
              "      <td>Недвижимость</td>\n",
              "      <td>1</td>\n",
              "      <td>67</td>\n",
              "    </tr>\n",
              "    <tr>\n",
              "      <th>1</th>\n",
              "      <td>Блок питания Power RX6500 6100W предназначен д...</td>\n",
              "      <td>Бытовая электроника</td>\n",
              "      <td>0</td>\n",
              "      <td>388</td>\n",
              "    </tr>\n",
              "    <tr>\n",
              "      <th>2</th>\n",
              "      <td>Жесткий диск 41Гб 35К LFF SAS HOT PLUG, 4.5-in...</td>\n",
              "      <td>Бытовая электроника</td>\n",
              "      <td>0</td>\n",
              "      <td>99</td>\n",
              "    </tr>\n",
              "    <tr>\n",
              "      <th>3</th>\n",
              "      <td>Продаю МФУ принтер HP Laser Jet 2156 MFP б/у в...</td>\n",
              "      <td>Бытовая электроника</td>\n",
              "      <td>1</td>\n",
              "      <td>27</td>\n",
              "    </tr>\n",
              "    <tr>\n",
              "      <th>4</th>\n",
              "      <td>Продам новую электрическую плиту Лысьва, с пли...</td>\n",
              "      <td>Для дома и дачи</td>\n",
              "      <td>1</td>\n",
              "      <td>16</td>\n",
              "    </tr>\n",
              "    <tr>\n",
              "      <th>...</th>\n",
              "      <td>...</td>\n",
              "      <td>...</td>\n",
              "      <td>...</td>\n",
              "      <td>...</td>\n",
              "    </tr>\n",
              "    <tr>\n",
              "      <th>473447</th>\n",
              "      <td>Новые веганские кроссовки в ретро стиле. Встав...</td>\n",
              "      <td>Личные вещи</td>\n",
              "      <td>0</td>\n",
              "      <td>35</td>\n",
              "    </tr>\n",
              "    <tr>\n",
              "      <th>473448</th>\n",
              "      <td>Дверь заднее правое./\\n /\\nДверь заднее право...</td>\n",
              "      <td>Транспорт</td>\n",
              "      <td>0</td>\n",
              "      <td>163</td>\n",
              "    </tr>\n",
              "    <tr>\n",
              "      <th>473449</th>\n",
              "      <td>ЗА НЕНАДОБНОСТЬЮ, Продам ОПТОМ полиэтиленовые ...</td>\n",
              "      <td>Хобби и отдых</td>\n",
              "      <td>1</td>\n",
              "      <td>455</td>\n",
              "    </tr>\n",
              "    <tr>\n",
              "      <th>473450</th>\n",
              "      <td>ЭМ-65 Вента - орган-бас-синтезатор, имеет дин...</td>\n",
              "      <td>Хобби и отдых</td>\n",
              "      <td>0</td>\n",
              "      <td>135</td>\n",
              "    </tr>\n",
              "    <tr>\n",
              "      <th>473451</th>\n",
              "      <td>Меня зовут Алена!/\\nЯ окончила курсы SMM в Gee...</td>\n",
              "      <td>Работа</td>\n",
              "      <td>0</td>\n",
              "      <td>172</td>\n",
              "    </tr>\n",
              "  </tbody>\n",
              "</table>\n",
              "<p>473452 rows × 4 columns</p>\n",
              "</div>\n",
              "      <button class=\"colab-df-convert\" onclick=\"convertToInteractive('df-dfb554fd-df53-4ea8-86f0-14cbe52a4bab')\"\n",
              "              title=\"Convert this dataframe to an interactive table.\"\n",
              "              style=\"display:none;\">\n",
              "\n",
              "  <svg xmlns=\"http://www.w3.org/2000/svg\" height=\"24px\"viewBox=\"0 0 24 24\"\n",
              "       width=\"24px\">\n",
              "    <path d=\"M0 0h24v24H0V0z\" fill=\"none\"/>\n",
              "    <path d=\"M18.56 5.44l.94 2.06.94-2.06 2.06-.94-2.06-.94-.94-2.06-.94 2.06-2.06.94zm-11 1L8.5 8.5l.94-2.06 2.06-.94-2.06-.94L8.5 2.5l-.94 2.06-2.06.94zm10 10l.94 2.06.94-2.06 2.06-.94-2.06-.94-.94-2.06-.94 2.06-2.06.94z\"/><path d=\"M17.41 7.96l-1.37-1.37c-.4-.4-.92-.59-1.43-.59-.52 0-1.04.2-1.43.59L10.3 9.45l-7.72 7.72c-.78.78-.78 2.05 0 2.83L4 21.41c.39.39.9.59 1.41.59.51 0 1.02-.2 1.41-.59l7.78-7.78 2.81-2.81c.8-.78.8-2.07 0-2.86zM5.41 20L4 18.59l7.72-7.72 1.47 1.35L5.41 20z\"/>\n",
              "  </svg>\n",
              "      </button>\n",
              "\n",
              "\n",
              "\n",
              "    <div id=\"df-858f77a8-360f-45bd-aca0-a3b9f846d71e\">\n",
              "      <button class=\"colab-df-quickchart\" onclick=\"quickchart('df-858f77a8-360f-45bd-aca0-a3b9f846d71e')\"\n",
              "              title=\"Suggest charts.\"\n",
              "              style=\"display:none;\">\n",
              "\n",
              "<svg xmlns=\"http://www.w3.org/2000/svg\" height=\"24px\"viewBox=\"0 0 24 24\"\n",
              "     width=\"24px\">\n",
              "    <g>\n",
              "        <path d=\"M19 3H5c-1.1 0-2 .9-2 2v14c0 1.1.9 2 2 2h14c1.1 0 2-.9 2-2V5c0-1.1-.9-2-2-2zM9 17H7v-7h2v7zm4 0h-2V7h2v10zm4 0h-2v-4h2v4z\"/>\n",
              "    </g>\n",
              "</svg>\n",
              "      </button>\n",
              "    </div>\n",
              "\n",
              "<style>\n",
              "  .colab-df-quickchart {\n",
              "    background-color: #E8F0FE;\n",
              "    border: none;\n",
              "    border-radius: 50%;\n",
              "    cursor: pointer;\n",
              "    display: none;\n",
              "    fill: #1967D2;\n",
              "    height: 32px;\n",
              "    padding: 0 0 0 0;\n",
              "    width: 32px;\n",
              "  }\n",
              "\n",
              "  .colab-df-quickchart:hover {\n",
              "    background-color: #E2EBFA;\n",
              "    box-shadow: 0px 1px 2px rgba(60, 64, 67, 0.3), 0px 1px 3px 1px rgba(60, 64, 67, 0.15);\n",
              "    fill: #174EA6;\n",
              "  }\n",
              "\n",
              "  [theme=dark] .colab-df-quickchart {\n",
              "    background-color: #3B4455;\n",
              "    fill: #D2E3FC;\n",
              "  }\n",
              "\n",
              "  [theme=dark] .colab-df-quickchart:hover {\n",
              "    background-color: #434B5C;\n",
              "    box-shadow: 0px 1px 3px 1px rgba(0, 0, 0, 0.15);\n",
              "    filter: drop-shadow(0px 1px 2px rgba(0, 0, 0, 0.3));\n",
              "    fill: #FFFFFF;\n",
              "  }\n",
              "</style>\n",
              "\n",
              "    <script>\n",
              "      async function quickchart(key) {\n",
              "        const containerElement = document.querySelector('#' + key);\n",
              "        const charts = await google.colab.kernel.invokeFunction(\n",
              "            'suggestCharts', [key], {});\n",
              "      }\n",
              "    </script>\n",
              "\n",
              "      <script>\n",
              "\n",
              "function displayQuickchartButton(domScope) {\n",
              "  let quickchartButtonEl =\n",
              "    domScope.querySelector('#df-858f77a8-360f-45bd-aca0-a3b9f846d71e button.colab-df-quickchart');\n",
              "  quickchartButtonEl.style.display =\n",
              "    google.colab.kernel.accessAllowed ? 'block' : 'none';\n",
              "}\n",
              "\n",
              "        displayQuickchartButton(document);\n",
              "      </script>\n",
              "      <style>\n",
              "    .colab-df-container {\n",
              "      display:flex;\n",
              "      flex-wrap:wrap;\n",
              "      gap: 12px;\n",
              "    }\n",
              "\n",
              "    .colab-df-convert {\n",
              "      background-color: #E8F0FE;\n",
              "      border: none;\n",
              "      border-radius: 50%;\n",
              "      cursor: pointer;\n",
              "      display: none;\n",
              "      fill: #1967D2;\n",
              "      height: 32px;\n",
              "      padding: 0 0 0 0;\n",
              "      width: 32px;\n",
              "    }\n",
              "\n",
              "    .colab-df-convert:hover {\n",
              "      background-color: #E2EBFA;\n",
              "      box-shadow: 0px 1px 2px rgba(60, 64, 67, 0.3), 0px 1px 3px 1px rgba(60, 64, 67, 0.15);\n",
              "      fill: #174EA6;\n",
              "    }\n",
              "\n",
              "    [theme=dark] .colab-df-convert {\n",
              "      background-color: #3B4455;\n",
              "      fill: #D2E3FC;\n",
              "    }\n",
              "\n",
              "    [theme=dark] .colab-df-convert:hover {\n",
              "      background-color: #434B5C;\n",
              "      box-shadow: 0px 1px 3px 1px rgba(0, 0, 0, 0.15);\n",
              "      filter: drop-shadow(0px 1px 2px rgba(0, 0, 0, 0.3));\n",
              "      fill: #FFFFFF;\n",
              "    }\n",
              "  </style>\n",
              "\n",
              "      <script>\n",
              "        const buttonEl =\n",
              "          document.querySelector('#df-dfb554fd-df53-4ea8-86f0-14cbe52a4bab button.colab-df-convert');\n",
              "        buttonEl.style.display =\n",
              "          google.colab.kernel.accessAllowed ? 'block' : 'none';\n",
              "\n",
              "        async function convertToInteractive(key) {\n",
              "          const element = document.querySelector('#df-dfb554fd-df53-4ea8-86f0-14cbe52a4bab');\n",
              "          const dataTable =\n",
              "            await google.colab.kernel.invokeFunction('convertToInteractive',\n",
              "                                                     [key], {});\n",
              "          if (!dataTable) return;\n",
              "\n",
              "          const docLinkHtml = 'Like what you see? Visit the ' +\n",
              "            '<a target=\"_blank\" href=https://colab.research.google.com/notebooks/data_table.ipynb>data table notebook</a>'\n",
              "            + ' to learn more about interactive tables.';\n",
              "          element.innerHTML = '';\n",
              "          dataTable['output_type'] = 'display_data';\n",
              "          await google.colab.output.renderOutput(dataTable, element);\n",
              "          const docLink = document.createElement('div');\n",
              "          docLink.innerHTML = docLinkHtml;\n",
              "          element.appendChild(docLink);\n",
              "        }\n",
              "      </script>\n",
              "    </div>\n",
              "  </div>\n"
            ]
          },
          "metadata": {},
          "execution_count": 29
        }
      ],
      "source": [
        "df = df.reset_index(drop=True)\n",
        "df"
      ]
    },
    {
      "cell_type": "markdown",
      "metadata": {
        "id": "tzhcS6FyXzej"
      },
      "source": [
        "***Importing NLTK for pre-processing purpose***"
      ]
    },
    {
      "cell_type": "code",
      "execution_count": null,
      "metadata": {
        "colab": {
          "base_uri": "https://localhost:8080/"
        },
        "id": "NUrGNeffbYOD",
        "outputId": "06559766-551d-47e3-c3db-198be2420f42"
      },
      "outputs": [
        {
          "output_type": "stream",
          "name": "stderr",
          "text": [
            "[nltk_data] Downloading package stopwords to /root/nltk_data...\n",
            "[nltk_data]   Unzipping corpora/stopwords.zip.\n"
          ]
        },
        {
          "output_type": "execute_result",
          "data": {
            "text/plain": [
              "True"
            ]
          },
          "metadata": {},
          "execution_count": 30
        }
      ],
      "source": [
        "import nltk\n",
        "from nltk.corpus import stopwords\n",
        "from nltk.stem.lancaster import LancasterStemmer\n",
        "nltk.download('stopwords')"
      ]
    },
    {
      "cell_type": "code",
      "execution_count": null,
      "metadata": {
        "id": "C9lVfaSBcpli"
      },
      "outputs": [],
      "source": [
        "def pre_process(data):\n",
        "    ln = LancasterStemmer()\n",
        "    corpus = []\n",
        "    for i in range(0,len(data)):\n",
        "        review = re.sub('[^а-яА-Я]', ' ', data['description'][i])\n",
        "        review = review.lower()\n",
        "        review = review.split()\n",
        "\n",
        "        review = [ln.stem(word) for word in review if not word in stopwords.words('russian')]\n",
        "        review = ' '.join(review)\n",
        "        corpus.append(review)\n",
        "    return corpus\n"
      ]
    },
    {
      "cell_type": "code",
      "execution_count": null,
      "metadata": {
        "id": "1y95UJVdcs1j",
        "colab": {
          "base_uri": "https://localhost:8080/"
        },
        "outputId": "f824565b-a486-44a2-9a72-a81ebed1f664"
      },
      "outputs": [
        {
          "output_type": "stream",
          "name": "stdout",
          "text": [
            "CPU times: user 45min 55s, sys: 6min 19s, total: 52min 14s\n",
            "Wall time: 52min 53s\n"
          ]
        }
      ],
      "source": [
        "%%time\n",
        "corpus = pre_process(df)"
      ]
    },
    {
      "cell_type": "code",
      "execution_count": null,
      "metadata": {
        "id": "qbZ8WPr1vwqC",
        "colab": {
          "base_uri": "https://localhost:8080/"
        },
        "outputId": "f9ac6db2-d1bd-43d8-9849-2d2ce8430b75"
      },
      "outputs": [
        {
          "output_type": "stream",
          "name": "stdout",
          "text": [
            "CPU times: user 2min 7s, sys: 17.5 s, total: 2min 24s\n",
            "Wall time: 2min 26s\n"
          ]
        }
      ],
      "source": [
        "%%time\n",
        "corpus_valid = pre_process(val_data)"
      ]
    },
    {
      "cell_type": "code",
      "execution_count": null,
      "metadata": {
        "id": "bObU8jJ5vgWV"
      },
      "outputs": [],
      "source": [
        "import tensorflow\n",
        "from tensorflow.keras.layers import Embedding\n",
        "from tensorflow.keras.layers import Dense\n",
        "from tensorflow.keras.layers import LSTM\n",
        "from tensorflow.keras.models import Sequential\n",
        "from tensorflow.keras.regularizers import l1, l2\n",
        "from tensorflow.keras.preprocessing.sequence import pad_sequences\n",
        "from tensorflow.keras.preprocessing.text import one_hot\n",
        "from tensorflow.keras.layers import Dropout"
      ]
    },
    {
      "cell_type": "code",
      "execution_count": null,
      "metadata": {
        "id": "UEd1luw_vmas"
      },
      "outputs": [],
      "source": [
        "voc_size=5000\n",
        "onehot_rep = [one_hot(words, voc_size) for words in corpus]\n",
        "onehot_rep_valid = [one_hot(words, voc_size) for words in corpus_valid]"
      ]
    },
    {
      "cell_type": "markdown",
      "metadata": {
        "id": "zYZbWNnByRCs"
      },
      "source": [
        "Embedding\n"
      ]
    },
    {
      "cell_type": "code",
      "execution_count": null,
      "metadata": {
        "id": "JBCOyqQnyT5M"
      },
      "outputs": [],
      "source": [
        "sent_length = 730\n",
        "embedded_docs=pad_sequences(onehot_rep, padding='pre', maxlen=sent_length)\n",
        "embedded_docs_valid=pad_sequences(onehot_rep_valid, padding='pre', maxlen=sent_length)"
      ]
    },
    {
      "cell_type": "code",
      "execution_count": null,
      "metadata": {
        "id": "KpjNH-DSfFFZ"
      },
      "outputs": [],
      "source": [
        "(embedded_docs[0])"
      ]
    },
    {
      "cell_type": "code",
      "execution_count": null,
      "metadata": {
        "colab": {
          "base_uri": "https://localhost:8080/"
        },
        "id": "WFa8T23VyUmA",
        "outputId": "2602206e-1565-4d60-ff05-d8dfa0a0e983"
      },
      "outputs": [
        {
          "output_type": "stream",
          "name": "stdout",
          "text": [
            "Model: \"sequential\"\n",
            "_________________________________________________________________\n",
            " Layer (type)                Output Shape              Param #   \n",
            "=================================================================\n",
            " embedding (Embedding)       (None, 730, 100)          500000    \n",
            "                                                                 \n",
            " dropout (Dropout)           (None, 730, 100)          0         \n",
            "                                                                 \n",
            " lstm (LSTM)                 (None, 128)               117248    \n",
            "                                                                 \n",
            " dropout_1 (Dropout)         (None, 128)               0         \n",
            "                                                                 \n",
            " dense (Dense)               (None, 128)               16512     \n",
            "                                                                 \n",
            " dropout_2 (Dropout)         (None, 128)               0         \n",
            "                                                                 \n",
            " dense_1 (Dense)             (None, 1)                 129       \n",
            "                                                                 \n",
            "=================================================================\n",
            "Total params: 633,889\n",
            "Trainable params: 633,889\n",
            "Non-trainable params: 0\n",
            "_________________________________________________________________\n",
            "None\n"
          ]
        }
      ],
      "source": [
        "emb_vector_feat = 100\n",
        "model = Sequential()\n",
        "model.add(Embedding(voc_size, emb_vector_feat, input_length=sent_length))\n",
        "model.add(Dropout(0.2))\n",
        "model.add(LSTM(128))\n",
        "model.add(Dropout(0.2))\n",
        "model.add(Dense(128, activation=\"relu\",))\n",
        "model.add(Dropout(0.2))\n",
        "model.add(Dense(1, activation='sigmoid'))\n",
        "model.compile(loss='binary_crossentropy', optimizer='adam', metrics=['accuracy'])\n",
        "print(model.summary())"
      ]
    },
    {
      "cell_type": "code",
      "execution_count": null,
      "metadata": {
        "colab": {
          "base_uri": "https://localhost:8080/"
        },
        "id": "3CR1Q9wIycDn",
        "outputId": "ef8b636e-5ea2-4f2e-93db-991e2f585ab5"
      },
      "outputs": [
        {
          "output_type": "execute_result",
          "data": {
            "text/plain": [
              "(473452, 730)"
            ]
          },
          "metadata": {},
          "execution_count": 38
        }
      ],
      "source": [
        "X_final  = np.array(embedded_docs)\n",
        "y_final = np.array(df['is_bad'])\n",
        "X_final.shape"
      ]
    },
    {
      "cell_type": "code",
      "execution_count": null,
      "metadata": {
        "id": "DBM2nppHygFo",
        "colab": {
          "base_uri": "https://localhost:8080/"
        },
        "outputId": "10925940-da6c-4e8a-e1dc-13cfd06cafb9"
      },
      "outputs": [
        {
          "output_type": "execute_result",
          "data": {
            "text/plain": [
              "(16237, 730)"
            ]
          },
          "metadata": {},
          "execution_count": 40
        }
      ],
      "source": [
        "X_final_valid  = np.array(embedded_docs_valid)\n",
        "y_final_valid = np.array(val_data['is_bad'])\n",
        "X_final_valid.shape"
      ]
    },
    {
      "cell_type": "code",
      "execution_count": null,
      "metadata": {
        "id": "x-g_urNkScMH"
      },
      "outputs": [],
      "source": [
        "from sklearn.model_selection import train_test_split\n",
        "x_tr, x_test, y_tr, y_test = train_test_split(X_final, y_final, test_size=0.1, random_state=42)\n",
        "x_test.shape"
      ]
    },
    {
      "cell_type": "code",
      "execution_count": null,
      "metadata": {
        "id": "jIbsqen4SqPE",
        "colab": {
          "base_uri": "https://localhost:8080/"
        },
        "outputId": "29971eee-1d9e-44f9-9ab8-c1c06294e30c"
      },
      "outputs": [
        {
          "output_type": "stream",
          "name": "stdout",
          "text": [
            "Epoch 1/5\n"
          ]
        }
      ],
      "source": [
        "model.fit(X_final, y_final, validation_data=(X_final_valid, y_final_valid), epochs=5, batch_size=1000)"
      ]
    },
    {
      "cell_type": "code",
      "execution_count": null,
      "metadata": {
        "id": "S7J_1pE---9T"
      },
      "outputs": [],
      "source": [
        "model.save('tf_model.h5')"
      ]
    },
    {
      "cell_type": "code",
      "execution_count": null,
      "metadata": {
        "id": "74yq6oXhVQdO"
      },
      "outputs": [],
      "source": [
        "import tensorflow as tf"
      ]
    },
    {
      "cell_type": "code",
      "execution_count": null,
      "metadata": {
        "id": "gFDpoqezCxvw"
      },
      "outputs": [],
      "source": [
        "model = tf.keras.models.load_model('my_tf_model.h5')"
      ]
    },
    {
      "cell_type": "code",
      "execution_count": null,
      "metadata": {
        "colab": {
          "base_uri": "https://localhost:8080/"
        },
        "id": "d3p736pcC7k6",
        "outputId": "13df01ad-05d0-461d-cc69-22b0bec137ff"
      },
      "outputs": [
        {
          "output_type": "stream",
          "name": "stdout",
          "text": [
            "508/508 [==============================] - 146s 279ms/step\n"
          ]
        }
      ],
      "source": [
        "y_pred = model.predict(X_final_valid)\n"
      ]
    },
    {
      "cell_type": "code",
      "execution_count": null,
      "metadata": {
        "colab": {
          "base_uri": "https://localhost:8080/"
        },
        "id": "04-m9-Ue_XCu",
        "outputId": "9af8ee2a-0ab3-4992-f47d-817fa2516093"
      },
      "outputs": [
        {
          "output_type": "execute_result",
          "data": {
            "text/plain": [
              "array([[0.9741956 ],\n",
              "       [0.24328479],\n",
              "       [0.21277556],\n",
              "       ...,\n",
              "       [0.0375578 ],\n",
              "       [0.03723534],\n",
              "       [0.31432468]], dtype=float32)"
            ]
          },
          "metadata": {},
          "execution_count": 38
        }
      ],
      "source": [
        "y_pred\n"
      ]
    },
    {
      "cell_type": "code",
      "execution_count": null,
      "metadata": {
        "id": "riFpOG2HVW6F"
      },
      "outputs": [],
      "source": [
        "y_pred_not_float = tensorflow.cast(y_pred > 0.5, tensorflow.int32)"
      ]
    },
    {
      "cell_type": "code",
      "execution_count": null,
      "metadata": {
        "colab": {
          "base_uri": "https://localhost:8080/"
        },
        "id": "zNc6-u5JVZJj",
        "outputId": "88ff92c7-3c5a-4521-b97b-4e5c8132163f"
      },
      "outputs": [
        {
          "output_type": "stream",
          "name": "stdout",
          "text": [
            "              precision    recall  f1-score   support\n",
            "\n",
            "           0       0.82      0.92      0.87     11024\n",
            "           1       0.77      0.59      0.67      5213\n",
            "\n",
            "    accuracy                           0.81     16237\n",
            "   macro avg       0.80      0.75      0.77     16237\n",
            "weighted avg       0.81      0.81      0.80     16237\n",
            "\n",
            "0.8111720145347047\n"
          ]
        }
      ],
      "source": [
        "from sklearn.metrics import classification_report, accuracy_score\n",
        "print(classification_report(y_pred_not_float, y_final_valid))\n",
        "print(accuracy_score(y_pred_not_float, y_final_valid))"
      ]
    }
  ],
  "metadata": {
    "colab": {
      "provenance": [],
      "gpuType": "T4"
    },
    "kernelspec": {
      "display_name": "Python 3",
      "name": "python3"
    },
    "language_info": {
      "name": "python"
    },
    "accelerator": "TPU"
  },
  "nbformat": 4,
  "nbformat_minor": 0
}